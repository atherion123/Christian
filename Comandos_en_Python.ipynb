{
  "nbformat": 4,
  "nbformat_minor": 0,
  "metadata": {
    "colab": {
      "provenance": [],
      "authorship_tag": "ABX9TyPj19RVJPUwVZGsIgCjRWTi",
      "include_colab_link": true
    },
    "kernelspec": {
      "name": "python3",
      "display_name": "Python 3"
    },
    "language_info": {
      "name": "python"
    }
  },
  "cells": [
    {
      "cell_type": "markdown",
      "metadata": {
        "id": "view-in-github",
        "colab_type": "text"
      },
      "source": [
        "<a href=\"https://colab.research.google.com/github/atherion123/Christian/blob/main/Comandos_en_Python.ipynb\" target=\"_parent\"><img src=\"https://colab.research.google.com/assets/colab-badge.svg\" alt=\"Open In Colab\"/></a>"
      ]
    },
    {
      "cell_type": "markdown",
      "source": [
        "Nombre: Christan Maldonado Blanco\n",
        "\n",
        "Materia: Protección de Datos\n",
        "\n",
        "Profesora: Jessica Sarahí Méndez Rincón"
      ],
      "metadata": {
        "id": "4PGbR6QyXQ8O"
      }
    },
    {
      "cell_type": "markdown",
      "source": [
        "#**EJERCICIO 1**\n",
        "Alcance"
      ],
      "metadata": {
        "id": "5d6ayipHYSji"
      }
    },
    {
      "cell_type": "code",
      "execution_count": null,
      "metadata": {
        "colab": {
          "base_uri": "https://localhost:8080/"
        },
        "id": "86WDTJidXMSC",
        "outputId": "72ea27d4-57b5-47f7-ba63-b35ace4f9c89"
      },
      "outputs": [
        {
          "output_type": "stream",
          "name": "stdout",
          "text": [
            "5 printing from the global scope\n",
            "13 printing from the local scope\n"
          ]
        }
      ],
      "source": [
        "\n",
        "def enclosing_func():\n",
        "  m = 13\n",
        "  def local():\n",
        "\n",
        "    print(m, 'printing from the local scope')\n",
        "\n",
        "  local()\n",
        "m = 5\n",
        "print(m, 'printing from the global scope')\n",
        "enclosing_func()"
      ]
    },
    {
      "cell_type": "markdown",
      "source": [
        "#**EJERCICIO 2**\n",
        "Objetos y clases"
      ],
      "metadata": {
        "id": "JCKqs4X1YObn"
      }
    },
    {
      "cell_type": "code",
      "source": [
        "class Bike:\n",
        "  def __init__(self, colour, frame_material):\n",
        "    self.colour = colour\n",
        "    self.frame_material = frame_material\n",
        "  def brake(self):\n",
        "    print(\"Braking!\")\n",
        "\n",
        "red_bike = Bike('Red', 'Carbon fiber')\n",
        "blue_bike = Bike('Blue', 'Steel')\n",
        "\n",
        "print(red_bike.colour)\n",
        "print(red_bike.frame_material)\n",
        "print(blue_bike.colour)\n",
        "print(blue_bike.frame_material)\n",
        "\n",
        "red_bike.brake()"
      ],
      "metadata": {
        "colab": {
          "base_uri": "https://localhost:8080/"
        },
        "id": "ebzx4P8vYOhc",
        "outputId": "04b40e03-2792-4130-b188-6d774cd30646"
      },
      "execution_count": null,
      "outputs": [
        {
          "output_type": "stream",
          "name": "stdout",
          "text": [
            "Red\n",
            "Carbon fiber\n",
            "Blue\n",
            "Steel\n",
            "Braking!\n"
          ]
        }
      ]
    },
    {
      "cell_type": "markdown",
      "source": [
        "#**EJERCICIO 3**\n",
        "Conditional programming"
      ],
      "metadata": {
        "id": "mPI2Z21mbX2D"
      }
    },
    {
      "cell_type": "code",
      "source": [
        "late = False\n",
        "if late:\n",
        "  print('I need to call my manager!')\n",
        "else:\n",
        "  print('no need to call my manager...')"
      ],
      "metadata": {
        "colab": {
          "base_uri": "https://localhost:8080/"
        },
        "id": "3FOUXPLibX77",
        "outputId": "709108e6-2df5-44b5-f9c9-3ed86e3e5716"
      },
      "execution_count": null,
      "outputs": [
        {
          "output_type": "stream",
          "name": "stdout",
          "text": [
            "no need to call my manager...\n"
          ]
        }
      ]
    },
    {
      "cell_type": "markdown",
      "source": [
        "#**EJERCICIO 4**\n",
        "The for loop"
      ],
      "metadata": {
        "id": "IeJKgUmab2J7"
      }
    },
    {
      "cell_type": "code",
      "source": [
        "surnames = ['Rivest', 'Shamir', 'Adleman']\n",
        "for surname in surnames:\n",
        "  print(surname)"
      ],
      "metadata": {
        "colab": {
          "base_uri": "https://localhost:8080/"
        },
        "id": "AhF290_Jb2Qd",
        "outputId": "a1a713f5-3c40-48ae-aa95-e2691ed6f352"
      },
      "execution_count": null,
      "outputs": [
        {
          "output_type": "stream",
          "name": "stdout",
          "text": [
            "Rivest\n",
            "Shamir\n",
            "Adleman\n"
          ]
        }
      ]
    },
    {
      "cell_type": "markdown",
      "source": [
        "#**EJERCICIO 5**\n",
        "Iterators and iterables"
      ],
      "metadata": {
        "id": "UkUr9DWgdvgd"
      }
    },
    {
      "cell_type": "code",
      "source": [
        "people = ['Nick', 'Rick', 'Roger', 'Syd']\n",
        "ages = [23, 24, 23, 21]\n",
        "for position in range(len(people)):\n",
        "  person = people[position]\n",
        "  age = ages[position]\n",
        "  print(person, age)"
      ],
      "metadata": {
        "colab": {
          "base_uri": "https://localhost:8080/"
        },
        "id": "9DNvK9DWdvns",
        "outputId": "0025bf3b-ca8f-4134-d385-1832f9e5090b"
      },
      "execution_count": null,
      "outputs": [
        {
          "output_type": "stream",
          "name": "stdout",
          "text": [
            "Nick 23\n",
            "Rick 24\n",
            "Roger 23\n",
            "Syd 21\n"
          ]
        }
      ]
    },
    {
      "cell_type": "markdown",
      "source": [
        "#**EJERCICIO 6**\n",
        "The while loop"
      ],
      "metadata": {
        "id": "WrIlvBEJewG3"
      }
    },
    {
      "cell_type": "code",
      "source": [
        "n = 39\n",
        "remainders = []\n",
        "while n > 0:\n",
        "  n, remainder = divmod(n, 2)\n",
        "  remainders.append(remainder)\n",
        "remainders.reverse()\n",
        "print(remainders)"
      ],
      "metadata": {
        "colab": {
          "base_uri": "https://localhost:8080/"
        },
        "id": "mO0mD8ZMewUS",
        "outputId": "ff630acd-32d8-4208-b50f-3d3d755b3be0"
      },
      "execution_count": null,
      "outputs": [
        {
          "output_type": "stream",
          "name": "stdout",
          "text": [
            "[1, 0, 0, 1, 1, 1]\n"
          ]
        }
      ]
    },
    {
      "cell_type": "markdown",
      "source": [
        "#**EJERCICIO 7**\n",
        "Las declaraciones de pausa y continuación."
      ],
      "metadata": {
        "id": "KNbAL-YcfNf9"
      }
    },
    {
      "cell_type": "code",
      "source": [
        "from datetime import date, timedelta\n",
        "today = date.today()\n",
        "tomorrow = today + timedelta(days=1)\n",
        "products = [\n",
        "  {'sku': '1', 'expiration_date': today, 'price': 100.0},\n",
        "  {'sku': '2', 'expiration_date': tomorrow, 'price': 50},\n",
        "  {'sku': '3', 'expiration_date': today, 'price': 20},\n",
        "]\n",
        "for product in products:\n",
        "  if product['expiration_date'] != today:\n",
        "    continue\n",
        "  product['price'] *= 0.8\n",
        "  print(\n",
        "    'Price for sku', product['sku'],\n",
        "    'is now', product['price'])"
      ],
      "metadata": {
        "colab": {
          "base_uri": "https://localhost:8080/"
        },
        "id": "yjoVhTVvfNzx",
        "outputId": "158c8ada-d295-4881-e00c-39d1b0ebab3c"
      },
      "execution_count": null,
      "outputs": [
        {
          "output_type": "stream",
          "name": "stdout",
          "text": [
            "Price for sku 1 is now 80.0\n",
            "Price for sku 3 is now 16.0\n"
          ]
        }
      ]
    },
    {
      "cell_type": "markdown",
      "source": [
        "#**EJERCICIO 8**\n",
        "Infinite iterators"
      ],
      "metadata": {
        "id": "6eiiWn8xhIWA"
      }
    },
    {
      "cell_type": "code",
      "source": [
        "from itertools import count\n",
        "for n in count(5, 3):\n",
        "  if n > 20:\n",
        "    break\n",
        "  print(n, end=', ')"
      ],
      "metadata": {
        "colab": {
          "base_uri": "https://localhost:8080/"
        },
        "id": "KD8lqT4LikDN",
        "outputId": "6b7026b3-38e9-46b0-9a9d-79873e9e5682"
      },
      "execution_count": null,
      "outputs": [
        {
          "output_type": "stream",
          "name": "stdout",
          "text": [
            "5, 8, 11, 14, 17, 20, "
          ]
        }
      ]
    },
    {
      "cell_type": "markdown",
      "source": [
        "#**EJERCICIO 9**\n",
        "Mejorando la legibilidad"
      ],
      "metadata": {
        "id": "CI_GZeD0iz0y"
      }
    },
    {
      "cell_type": "code",
      "source": [
        "def matrix_mul(a, b):\n",
        "  return [[sum(i * j for i, j in zip(r, c)) for c in zip(*b)]\n",
        "for r in a]\n",
        "  a = [[1, 2], [3, 4]]\n",
        "  b = [[5, 1], [2, 1]]\n",
        "  c = matrix_mul(a, b)"
      ],
      "metadata": {
        "id": "OlAerdkEiz60"
      },
      "execution_count": null,
      "outputs": []
    },
    {
      "cell_type": "markdown",
      "source": [
        "#**EJERCICIO 10**\n",
        "paso de argumentos"
      ],
      "metadata": {
        "id": "WHnrxXcRjVxc"
      }
    },
    {
      "cell_type": "code",
      "source": [
        "x = 3\n",
        "def func(y):\n",
        "  print(y)\n",
        "\n",
        "func(x)"
      ],
      "metadata": {
        "colab": {
          "base_uri": "https://localhost:8080/"
        },
        "id": "IhnwWajkjWHL",
        "outputId": "a9f54ec4-d4e6-4c06-84d8-aa807fd65fe1"
      },
      "execution_count": null,
      "outputs": [
        {
          "output_type": "stream",
          "name": "stdout",
          "text": [
            "3\n"
          ]
        }
      ]
    },
    {
      "cell_type": "markdown",
      "source": [
        "#**EJERCICIO 11**\n",
        "Abrir archivos"
      ],
      "metadata": {
        "id": "Gb8Kz6BxkpKd"
      }
    },
    {
      "cell_type": "code",
      "source": [
        "fh = open('irisBase.csv', 'rt')\n",
        "for line in fh.readlines():\n",
        "  print(line.strip())\n",
        "fh.close()"
      ],
      "metadata": {
        "colab": {
          "base_uri": "https://localhost:8080/"
        },
        "id": "jbm_xOwukpao",
        "outputId": "77e90d8e-161b-4889-9e02-40e964721b80"
      },
      "execution_count": null,
      "outputs": [
        {
          "output_type": "stream",
          "name": "stdout",
          "text": [
            "sepal.length,sepal.width,petal.length,petal.width,variety\n",
            "5.1,3.5,1.4,0.2,Setosa\n",
            "4.9,3,1.4,0.2,Setosa\n",
            "4.7,3.2,1.3,0.2,Setosa\n",
            "4.6,3.1,1.5,0.2,Setosa\n",
            "5,3.6,1.4,0.2,Setosa\n",
            "5.4,3.9,1.7,0.4,Setosa\n",
            "4.6,3.4,1.4,0.3,Setosa\n",
            "5,3.4,1.5,0.2,Setosa\n",
            "4.4,2.9,1.4,0.2,Setosa\n",
            "4.9,3.1,1.5,0.1,Setosa\n",
            "5.4,3.7,1.5,0.2,Setosa\n",
            "4.8,3.4,1.6,0.2,Setosa\n",
            "4.8,3,1.4,0.1,Setosa\n",
            "4.3,3,1.1,0.1,Setosa\n",
            "5.8,4,1.2,0.2,Setosa\n",
            "5.7,4.4,1.5,0.4,Setosa\n",
            "5.4,3.9,1.3,0.4,Setosa\n",
            "5.1,3.5,1.4,0.3,Setosa\n",
            "5.7,3.8,1.7,0.3,Setosa\n",
            "5.1,3.8,1.5,0.3,Setosa\n",
            "5.4,3.4,1.7,0.2,Setosa\n",
            "5.1,3.7,1.5,0.4,Setosa\n",
            "4.6,3.6,1,0.2,Setosa\n",
            "5.1,3.3,1.7,0.5,Setosa\n",
            "4.8,3.4,1.9,0.2,Setosa\n",
            "5,3,1.6,0.2,Setosa\n",
            "5,3.4,1.6,0.4,Setosa\n",
            "5.2,3.5,1.5,0.2,Setosa\n",
            "5.2,3.4,1.4,0.2,Setosa\n",
            "4.7,3.2,1.6,0.2,Setosa\n",
            "4.8,3.1,1.6,0.2,Setosa\n",
            "5.4,3.4,1.5,0.4,Setosa\n",
            "5.2,4.1,1.5,0.1,Setosa\n",
            "5.5,4.2,1.4,0.2,Setosa\n",
            "4.9,3.1,1.5,0.2,Setosa\n",
            "5,3.2,1.2,0.2,Setosa\n",
            "5.5,3.5,1.3,0.2,Setosa\n",
            "4.9,3.6,1.4,0.1,Setosa\n",
            "4.4,3,1.3,0.2,Setosa\n",
            "5.1,3.4,1.5,0.2,Setosa\n",
            "5,3.5,1.3,0.3,Setosa\n",
            "4.5,2.3,1.3,0.3,Setosa\n",
            "4.4,3.2,1.3,0.2,Setosa\n",
            "5,3.5,1.6,0.6,Setosa\n",
            "5.1,3.8,1.9,0.4,Setosa\n",
            "4.8,3,1.4,0.3,Setosa\n",
            "5.1,3.8,1.6,0.2,Setosa\n",
            "4.6,3.2,1.4,0.2,Setosa\n",
            "5.3,3.7,1.5,0.2,Setosa\n",
            "5,3.3,1.4,0.2,Setosa\n",
            "7,3.2,4.7,1.4,Versicolor\n",
            "6.4,3.2,4.5,1.5,Versicolor\n",
            "6.9,3.1,4.9,1.5,Versicolor\n",
            "5.5,2.3,4,1.3,Versicolor\n",
            "6.5,2.8,4.6,1.5,Versicolor\n",
            "5.7,2.8,4.5,1.3,Versicolor\n",
            "6.3,3.3,4.7,1.6,Versicolor\n",
            "4.9,2.4,3.3,1,Versicolor\n",
            "6.6,2.9,4.6,1.3,Versicolor\n",
            "5.2,2.7,3.9,1.4,Versicolor\n",
            "5,2,3.5,1,Versicolor\n",
            "5.9,3,4.2,1.5,Versicolor\n",
            "6,2.2,4,1,Versicolor\n",
            "6.1,2.9,4.7,1.4,Versicolor\n",
            "5.6,2.9,3.6,1.3,Versicolor\n",
            "6.7,3.1,4.4,1.4,Versicolor\n",
            "5.6,3,4.5,1.5,Versicolor\n",
            "5.8,2.7,4.1,1,Versicolor\n",
            "6.2,2.2,4.5,1.5,Versicolor\n",
            "5.6,2.5,3.9,1.1,Versicolor\n",
            "5.9,3.2,4.8,1.8,Versicolor\n",
            "6.1,2.8,4,1.3,Versicolor\n",
            "6.3,2.5,4.9,1.5,Versicolor\n",
            "6.1,2.8,4.7,1.2,Versicolor\n",
            "6.4,2.9,4.3,1.3,Versicolor\n",
            "6.6,3,4.4,1.4,Versicolor\n",
            "6.8,2.8,4.8,1.4,Versicolor\n",
            "6.7,3,5,1.7,Versicolor\n",
            "6,2.9,4.5,1.5,Versicolor\n",
            "5.7,2.6,3.5,1,Versicolor\n",
            "5.5,2.4,3.8,1.1,Versicolor\n",
            "5.5,2.4,3.7,1,Versicolor\n",
            "5.8,2.7,3.9,1.2,Versicolor\n",
            "6,2.7,5.1,1.6,Versicolor\n",
            "5.4,3,4.5,1.5,Versicolor\n",
            "6,3.4,4.5,1.6,Versicolor\n",
            "6.7,3.1,4.7,1.5,Versicolor\n",
            "6.3,2.3,4.4,1.3,Versicolor\n",
            "5.6,3,4.1,1.3,Versicolor\n",
            "5.5,2.5,4,1.3,Versicolor\n",
            "5.5,2.6,4.4,1.2,Versicolor\n",
            "6.1,3,4.6,1.4,Versicolor\n",
            "5.8,2.6,4,1.2,Versicolor\n",
            "5,2.3,3.3,1,Versicolor\n",
            "5.6,2.7,4.2,1.3,Versicolor\n",
            "5.7,3,4.2,1.2,Versicolor\n",
            "5.7,2.9,4.2,1.3,Versicolor\n",
            "6.2,2.9,4.3,1.3,Versicolor\n",
            "5.1,2.5,3,1.1,Versicolor\n",
            "5.7,2.8,4.1,1.3,Versicolor\n",
            "6.3,3.3,6,2.5,Virginica\n",
            "5.8,2.7,5.1,1.9,Virginica\n",
            "7.1,3,5.9,2.1,Virginica\n",
            "6.3,2.9,5.6,1.8,Virginica\n",
            "6.5,3,5.8,2.2,Virginica\n",
            "7.6,3,6.6,2.1,Virginica\n",
            "4.9,2.5,4.5,1.7,Virginica\n",
            "7.3,2.9,6.3,1.8,Virginica\n",
            "6.7,2.5,5.8,1.8,Virginica\n",
            "7.2,3.6,6.1,2.5,Virginica\n",
            "6.5,3.2,5.1,2,Virginica\n",
            "6.4,2.7,5.3,1.9,Virginica\n",
            "6.8,3,5.5,2.1,Virginica\n",
            "5.7,2.5,5,2,Virginica\n",
            "5.8,2.8,5.1,2.4,Virginica\n",
            "6.4,3.2,5.3,2.3,Virginica\n",
            "6.5,3,5.5,1.8,Virginica\n",
            "7.7,3.8,6.7,2.2,Virginica\n",
            "7.7,2.6,6.9,2.3,Virginica\n",
            "6,2.2,5,1.5,Virginica\n",
            "6.9,3.2,5.7,2.3,Virginica\n",
            "5.6,2.8,4.9,2,Virginica\n",
            "7.7,2.8,6.7,2,Virginica\n",
            "6.3,2.7,4.9,1.8,Virginica\n",
            "6.7,3.3,5.7,2.1,Virginica\n",
            "7.2,3.2,6,1.8,Virginica\n",
            "6.2,2.8,4.8,1.8,Virginica\n",
            "6.1,3,4.9,1.8,Virginica\n",
            "6.4,2.8,5.6,2.1,Virginica\n",
            "7.2,3,5.8,1.6,Virginica\n",
            "7.4,2.8,6.1,1.9,Virginica\n",
            "7.9,3.8,6.4,2,Virginica\n",
            "6.4,2.8,5.6,2.2,Virginica\n",
            "6.3,2.8,5.1,1.5,Virginica\n",
            "6.1,2.6,5.6,1.4,Virginica\n",
            "7.7,3,6.1,2.3,Virginica\n",
            "6.3,3.4,5.6,2.4,Virginica\n",
            "6.4,3.1,5.5,1.8,Virginica\n",
            "6,3,4.8,1.8,Virginica\n",
            "6.9,3.1,5.4,2.1,Virginica\n",
            "6.7,3.1,5.6,2.4,Virginica\n",
            "6.9,3.1,5.1,2.3,Virginica\n",
            "5.8,2.7,5.1,1.9,Virginica\n",
            "6.8,3.2,5.9,2.3,Virginica\n",
            "6.7,3.3,5.7,2.5,Virginica\n",
            "6.7,3,5.2,2.3,Virginica\n",
            "6.3,2.5,5,1.9,Virginica\n",
            "6.5,3,5.2,2,Virginica\n",
            "6.2,3.4,5.4,2.3,Virginica\n",
            "5.9,3,5.1,1.8,Virginica\n"
          ]
        }
      ]
    },
    {
      "cell_type": "markdown",
      "source": [
        "#**EJERCICIO 12**\n",
        "Leer y escribir en un archivo"
      ],
      "metadata": {
        "id": "bSIp_SyAnBge"
      }
    },
    {
      "cell_type": "code",
      "source": [
        "with open('print_irisBase.csv', 'w') as fw:\n",
        "  print('Hey I am printing into a file!!!', file=fw)"
      ],
      "metadata": {
        "id": "GHiQbdG-nBot"
      },
      "execution_count": null,
      "outputs": []
    },
    {
      "cell_type": "markdown",
      "source": [
        "# **EJERCICIO 13**\n",
        "Comprobar la existencia de archivos y directorios"
      ],
      "metadata": {
        "id": "ZNim1W9Hj96l"
      }
    },
    {
      "cell_type": "code",
      "source": [
        "from pathlib import Path\n",
        "p = Path('print_irisBase.csv')\n",
        "path = p.parent.absolute()\n",
        "print(p.is_file())\n",
        "print(path)\n",
        "print(path.is_dir()) #\n",
        "q = Path('/Users/fab/srv/lpp3e/ch08/files')\n",
        "print(q.is_dir())"
      ],
      "metadata": {
        "colab": {
          "base_uri": "https://localhost:8080/"
        },
        "id": "t5qwgoyNj_Zx",
        "outputId": "c0f0bf91-58b7-4d8f-9fa3-6006d305e422"
      },
      "execution_count": null,
      "outputs": [
        {
          "output_type": "stream",
          "name": "stdout",
          "text": [
            "True\n",
            "/content\n",
            "True\n",
            "False\n"
          ]
        }
      ]
    },
    {
      "cell_type": "markdown",
      "source": [
        "# **EJERCICIO 14**\n",
        "Contenido del directorio"
      ],
      "metadata": {
        "id": "g_rGIwGFmBU9"
      }
    },
    {
      "cell_type": "code",
      "source": [
        "from pathlib import Path\n",
        "p = Path('.')\n",
        "for entry in p.glob('*'):\n",
        "  print('File:' if entry.is_file() else 'Folder:', entry)"
      ],
      "metadata": {
        "colab": {
          "base_uri": "https://localhost:8080/"
        },
        "id": "bY-9UqafmBvC",
        "outputId": "2fad2721-0b68-4c67-f840-b11c09145792"
      },
      "execution_count": null,
      "outputs": [
        {
          "output_type": "stream",
          "name": "stdout",
          "text": [
            "Folder: .config\n",
            "File: irisBase.csv\n",
            "File: print_irisBase.csv\n",
            "Folder: .ipynb_checkpoints\n",
            "File: Iris.xls\n",
            "Folder: sample_data\n"
          ]
        }
      ]
    },
    {
      "cell_type": "markdown",
      "source": [
        "# **EJERCICIO 15**\n",
        "trabajar con JSON"
      ],
      "metadata": {
        "id": "OhSSrJkIR7cF"
      }
    },
    {
      "cell_type": "code",
      "source": [
        "import sys\n",
        "import json\n",
        "data = {\n",
        "  'big_number': 2 ** 3141,\n",
        "  'max_float': sys.float_info.max,\n",
        "  'a_list': [2, 3, 5, 7],\n",
        "}\n",
        "json_data = json.dumps(data)\n",
        "data_out = json.loads(json_data)\n",
        "assert data == data_out"
      ],
      "metadata": {
        "id": "8zSzq4UrR7jV"
      },
      "execution_count": null,
      "outputs": []
    },
    {
      "cell_type": "markdown",
      "source": [
        "# **EJERCICIO 16**\n",
        "Usando una secuencia en memoria"
      ],
      "metadata": {
        "id": "to366aOan4LW"
      }
    },
    {
      "cell_type": "code",
      "source": [
        "import io\n",
        "stream = io.StringIO()\n",
        "stream.write('Learning Python Programming.\\n')\n",
        "print('Become a Python ninja!', file=stream)\n",
        "contents = stream.getvalue()\n",
        "print(contents)"
      ],
      "metadata": {
        "colab": {
          "base_uri": "https://localhost:8080/"
        },
        "id": "lvRYmLvtn4aS",
        "outputId": "a6096295-700d-4ac3-f8a2-fe21fbcdb0a0"
      },
      "execution_count": null,
      "outputs": [
        {
          "output_type": "stream",
          "name": "stdout",
          "text": [
            "Learning Python Programming.\n",
            "Become a Python ninja!\n",
            "\n"
          ]
        }
      ]
    }
  ]
}