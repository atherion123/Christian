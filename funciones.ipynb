{
  "nbformat": 4,
  "nbformat_minor": 0,
  "metadata": {
    "colab": {
      "provenance": [],
      "authorship_tag": "ABX9TyOhl2wXVcdf2M7r09COYehU",
      "include_colab_link": true
    },
    "kernelspec": {
      "name": "python3",
      "display_name": "Python 3"
    },
    "language_info": {
      "name": "python"
    }
  },
  "cells": [
    {
      "cell_type": "markdown",
      "metadata": {
        "id": "view-in-github",
        "colab_type": "text"
      },
      "source": [
        "<a href=\"https://colab.research.google.com/github/atherion123/Christian/blob/main/funciones.ipynb\" target=\"_parent\"><img src=\"https://colab.research.google.com/assets/colab-badge.svg\" alt=\"Open In Colab\"/></a>"
      ]
    },
    {
      "cell_type": "code",
      "execution_count": 160,
      "metadata": {
        "id": "Oyh7MVt9nAlb"
      },
      "outputs": [],
      "source": [
        "from math import sqrt\n",
        "import random\n",
        "\n",
        "def primo(n):\n",
        "    if (n==1):\n",
        "        return False\n",
        "    elif (n==2):\n",
        "        return True;\n",
        "    else:\n",
        "        for x in range(2,n):\n",
        "            if(n % x==0):\n",
        "                return False\n",
        "        return True\n",
        "\n",
        "def nextprime(n):\n",
        "    while True:\n",
        "        n=n+1\n",
        "        for i in range (2,int(n/2)):\n",
        "            if n%i==0:\n",
        "                break\n",
        "        else:\n",
        "            return n\n",
        "\n",
        "def mediana(x, y, z):\n",
        "    numeros = [x, y, z]\n",
        "\n",
        "    numeros.sort()\n",
        "\n",
        "    mediana = numeros[1]\n",
        "\n",
        "    return mediana\n",
        "\n",
        "def contraseña():\n",
        "    longitud = random.randint(7, 10)\n",
        "    resultado = \"\"\n",
        "\n",
        "    for i in range(longitud):\n",
        "        resultado = resultado + chr(random.randint(33, 126))\n",
        "\n",
        "    return resultado\n",
        "\n",
        "def hipotenusa(lado1,lado2):\n",
        "  c = sqrt(lado1 ** 2 + lado2 ** 2)\n",
        "\n",
        "  return c"
      ]
    },
    {
      "cell_type": "code",
      "source": [
        "if __name__== \"__main__\":\n",
        "\n",
        "  n = int(input(\"escriba un numero: \"))\n",
        "\n",
        "  if primo(n):\n",
        "    print(f\"{n} es un primo: \")\n",
        "\n",
        "  else:\n",
        "    print(f\"{n} no es primo\")"
      ],
      "metadata": {
        "colab": {
          "base_uri": "https://localhost:8080/"
        },
        "id": "NLZfGPK1p1mO",
        "outputId": "7e885242-ab08-4d43-c166-c39dc994e47a"
      },
      "execution_count": 161,
      "outputs": [
        {
          "output_type": "stream",
          "name": "stdout",
          "text": [
            "escriba un numero: 12\n",
            "12 no es primo\n"
          ]
        }
      ]
    },
    {
      "cell_type": "code",
      "source": [
        "if __name__== \"__main__\":\n",
        "  n = int(input(\"INGRESE UN NUMERO\"))\n",
        "\n",
        "  print(f\"El sigiente numero primo mayor que {n} es {nextprime(n)}\")"
      ],
      "metadata": {
        "colab": {
          "base_uri": "https://localhost:8080/"
        },
        "id": "4WRfhfAfsOOA",
        "outputId": "d22100b2-d1b0-477e-bc48-f78d57554b68"
      },
      "execution_count": 169,
      "outputs": [
        {
          "output_type": "stream",
          "name": "stdout",
          "text": [
            "INGRESE UN NUMERO32\n",
            "El sigiente numero primo mayor que 32 es 37\n"
          ]
        }
      ]
    },
    {
      "cell_type": "code",
      "source": [
        "if __name__== \"__main__\":\n",
        "\n",
        "  x = float(input(\"Escribe un numero a x \"))\n",
        "  y = float(input(\"Escribe un numero a y \"))\n",
        "  z = float(input(\"Escribe un numero a z \"))\n",
        "\n",
        "  print(f\"la media de {x}, {y} y {z} es {mediana(x, y, z)}\")"
      ],
      "metadata": {
        "colab": {
          "base_uri": "https://localhost:8080/"
        },
        "id": "Kq-psrHQA3gX",
        "outputId": "80867e99-cdfc-4ff8-fd23-04f6870f1cf8"
      },
      "execution_count": 162,
      "outputs": [
        {
          "output_type": "stream",
          "name": "stdout",
          "text": [
            "Escribe un numero a x 20\n",
            "Escribe un numero a y 30\n",
            "Escribe un numero a z 10\n",
            "la media de 20.0, 30.0 y 10.0 es 20.0\n"
          ]
        }
      ]
    },
    {
      "cell_type": "code",
      "source": [
        "if __name__ == \"__main__\":\n",
        "\n",
        "    print(\"la contraseña es:\", contraseña())"
      ],
      "metadata": {
        "colab": {
          "base_uri": "https://localhost:8080/"
        },
        "id": "zRDj9SXET8YF",
        "outputId": "acd13f81-7fd4-442d-cc35-a17653bc9523"
      },
      "execution_count": 165,
      "outputs": [
        {
          "output_type": "stream",
          "name": "stdout",
          "text": [
            "la contraseña es: T%8EMJ:b\n"
          ]
        }
      ]
    },
    {
      "cell_type": "code",
      "source": [
        "if __name__== \"__main__\":\n",
        "\n",
        "  lado1 = float(input(\"INGRESE UN NUMERO: \"))\n",
        "  lado2 = float(input(\"INGRESE UN NUMERO: \"))\n",
        "\n",
        "  print(hipotenusa(lado1,lado2))"
      ],
      "metadata": {
        "colab": {
          "base_uri": "https://localhost:8080/"
        },
        "id": "Ma4Q7U4ldNQE",
        "outputId": "23df20e4-bd67-4df8-aab5-7125165f09a7"
      },
      "execution_count": 167,
      "outputs": [
        {
          "output_type": "stream",
          "name": "stdout",
          "text": [
            "INGRESE UN NUMERO: 20\n",
            "INGRESE UN NUMERO: 32\n",
            "37.73592452822641\n"
          ]
        }
      ]
    }
  ]
}